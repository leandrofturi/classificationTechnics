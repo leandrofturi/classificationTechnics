{
  "nbformat": 4,
  "nbformat_minor": 0,
  "metadata": {
    "colab": {
      "name": "T2.ipynb",
      "provenance": [],
      "collapsed_sections": []
    },
    "kernelspec": {
      "name": "python3",
      "display_name": "Python 3"
    },
    "language_info": {
      "name": "python"
    }
  },
  "cells": [
    {
      "cell_type": "code",
      "metadata": {
        "id": "fd1iiKz1AoHT"
      },
      "source": [
        "import time\n",
        "import numpy as np\n",
        "import pandas as pd\n",
        "from sklearn import datasets\n",
        "from sklearn.cluster import KMeans\n",
        "from sklearn.metrics import make_scorer\n",
        "from sklearn.dummy import DummyClassifier\n",
        "from sklearn.naive_bayes import GaussianNB\n",
        "from sklearn.tree import DecisionTreeClassifier\n",
        "from sklearn.preprocessing import KBinsDiscretizer\n",
        "from sklearn.neighbors import KNeighborsClassifier\n",
        "from sklearn.model_selection import cross_validate\n",
        "from sklearn.ensemble import RandomForestClassifier\n",
        "from sklearn.base import BaseEstimator, ClassifierMixin\n",
        "from sklearn.utils.validation import check_X_y, check_array, check_is_fitted"
      ],
      "execution_count": 1,
      "outputs": []
    },
    {
      "cell_type": "code",
      "metadata": {
        "id": "rRkxWadUIOaE"
      },
      "source": [
        "iris = datasets.load_iris()\n",
        "X = iris.data\n",
        "y = iris.target\n",
        "\n",
        "#datasets.load_digits()\n",
        "\n",
        "#datasets.load_wine()\n",
        "\n",
        "#datasets.load_breast_cancer()"
      ],
      "execution_count": 2,
      "outputs": []
    },
    {
      "cell_type": "code",
      "metadata": {
        "colab": {
          "base_uri": "https://localhost:8080/"
        },
        "id": "MNncTRkMFTjN",
        "outputId": "20bd14fc-a1dc-4908-ff4e-f0e73743c881"
      },
      "source": [
        "# ZeroR\n",
        "\n",
        "clf = DummyClassifier(strategy='most_frequent')\n",
        "cross_validate(clf, X, y, cv=10)"
      ],
      "execution_count": null,
      "outputs": [
        {
          "output_type": "execute_result",
          "data": {
            "text/plain": [
              "{'fit_time': array([0.00034618, 0.00040722, 0.0001564 , 0.00014687, 0.00014472,\n",
              "        0.00019336, 0.00017929, 0.00014949, 0.00013137, 0.00021029]),\n",
              " 'score_time': array([0.00048065, 0.00025129, 0.00020885, 0.00021744, 0.00020885,\n",
              "        0.00020218, 0.00018573, 0.00017905, 0.00019026, 0.00019717]),\n",
              " 'test_score': array([0.33333333, 0.33333333, 0.33333333, 0.33333333, 0.33333333,\n",
              "        0.33333333, 0.33333333, 0.33333333, 0.33333333, 0.33333333])}"
            ]
          },
          "metadata": {
            "tags": []
          },
          "execution_count": 3
        }
      ]
    },
    {
      "cell_type": "code",
      "metadata": {
        "colab": {
          "base_uri": "https://localhost:8080/"
        },
        "id": "BKEppTgVFTl7",
        "outputId": "82be5371-2c5e-4f76-a4a9-ef76e1e6360d"
      },
      "source": [
        "# Aleatório\n",
        "\n",
        "clf = DummyClassifier(strategy='uniform')\n",
        "cross_validate(clf, X, y, cv=10)"
      ],
      "execution_count": null,
      "outputs": [
        {
          "output_type": "execute_result",
          "data": {
            "text/plain": [
              "{'fit_time': array([0.00029922, 0.00034571, 0.00023222, 0.00023699, 0.00025082,\n",
              "        0.00024247, 0.00022244, 0.00022936, 0.00021744, 0.00019503]),\n",
              " 'score_time': array([0.00073671, 0.00042367, 0.00037861, 0.00068903, 0.00058055,\n",
              "        0.00036216, 0.00033784, 0.00035858, 0.00051355, 0.00020409]),\n",
              " 'test_score': array([0.26666667, 0.6       , 0.4       , 0.2       , 0.06666667,\n",
              "        0.46666667, 0.26666667, 0.2       , 0.46666667, 0.13333333])}"
            ]
          },
          "metadata": {
            "tags": []
          },
          "execution_count": 4
        }
      ]
    },
    {
      "cell_type": "code",
      "metadata": {
        "colab": {
          "base_uri": "https://localhost:8080/"
        },
        "id": "E_q4cCfIFToQ",
        "outputId": "ab7e7e0e-b676-46b5-aa3a-a688957d91e9"
      },
      "source": [
        "# Aleatório Estratificado\n",
        "\n",
        "clf = DummyClassifier(strategy='stratified')\n",
        "cross_validate(clf, X, y, cv=10)"
      ],
      "execution_count": null,
      "outputs": [
        {
          "output_type": "execute_result",
          "data": {
            "text/plain": [
              "{'fit_time': array([0.000314  , 0.00030065, 0.00027132, 0.00029349, 0.00044155,\n",
              "        0.00024605, 0.00024509, 0.00025249, 0.00043106, 0.0001421 ]),\n",
              " 'score_time': array([0.00086737, 0.00052023, 0.00067925, 0.00043964, 0.00042653,\n",
              "        0.00037956, 0.00063419, 0.00039887, 0.00030518, 0.00023174]),\n",
              " 'test_score': array([0.4       , 0.46666667, 0.6       , 0.46666667, 0.46666667,\n",
              "        0.4       , 0.2       , 0.4       , 0.53333333, 0.2       ])}"
            ]
          },
          "metadata": {
            "tags": []
          },
          "execution_count": 5
        }
      ]
    },
    {
      "cell_type": "code",
      "metadata": {
        "id": "7Ez_FSphFTqd",
        "colab": {
          "base_uri": "https://localhost:8080/"
        },
        "outputId": "ecccc27f-9f4c-4f05-8920-824344cf18a4"
      },
      "source": [
        "# OneR Probabilístico\n",
        "'''OneR Algorithm\t\t\n",
        "For each predictor,\n",
        "     For each value of that predictor, make a rule as follows;\n",
        "           Count how often each value of target (class) appears\n",
        "           Find the most frequent class\n",
        "           Make the rule assign that class to this value of the predictor\n",
        "     Calculate the total error of the rules of each predictor\n",
        "Choose the predictor with the smallest total error.\n",
        "'''\n",
        "\n",
        "class OneRProbabilistic(BaseEstimator, ClassifierMixin):\n",
        "    def __init__(self, disc=True):\n",
        "        self._disc = disc\n",
        "\n",
        "    def fit(self, X, y):\n",
        "        # Check that X and y have correct shape\n",
        "        X, y = check_X_y(X, y)\n",
        "        # Store the classes seen during fit\n",
        "        self.classes_ = np.unique(y)\n",
        "        self.n_classes_ = len(self.classes_)\n",
        "\n",
        "        self.X_ = X\n",
        "        self.y_ = y\n",
        "\n",
        "        # Discretization\n",
        "        self.__est = KBinsDiscretizer(n_bins=2*self.n_classes_, encode='ordinal', strategy='kmeans') if self._disc else None\n",
        "        X_disc = self.__est.fit_transform(X) if self._disc else X\n",
        "\n",
        "        # Contingency tables\n",
        "        contingency_tb = [pd.crosstab(x, y, rownames=['data'], colnames=['target']) for x in X_disc.T]\n",
        "        # Feature with greater power differentiation\n",
        "        self.__great_diff = np.argmax([tb.max(axis=1).sum() for tb in contingency_tb])\n",
        "        # Class distribution of each characteristic value\n",
        "        self.__dist_class = contingency_tb[self.__great_diff].div(contingency_tb[self.__great_diff].sum(axis=1), axis=0)\n",
        "\n",
        "        # Return the classifier\n",
        "        return self\n",
        "\n",
        "    def predict(self, X):\n",
        "        # Check is fit had been called\n",
        "        check_is_fitted(self)\n",
        "\n",
        "        # Discretization\n",
        "        X_disc = self.__est.transform(X) if self._disc else X\n",
        "\n",
        "        # Input validation\n",
        "        X_disc = check_array(X_disc)\n",
        "\n",
        "        # roulette taking into account the distribution of classes\n",
        "        predicted = [self.__dist_class.columns[(self.__dist_class.loc[x].cumsum() >= np.random.rand()).idxmax()] for x in X_disc[:,self.__great_diff]]\n",
        "        return np.array(predicted)\n",
        "    \n",
        "    def get_params(self, deep=False):\n",
        "        return {'disc': self._disc}\n",
        "\n",
        "def my_score(y_true, y_pred):\n",
        "    diff = np.abs(y_true - y_pred).max()\n",
        "    return np.log1p(diff)\n",
        "\n",
        "cls = OneRProbabilistic()\n",
        "cross_validate(cls, X, y, cv=10, scoring=make_scorer(my_score, greater_is_better=False))"
      ],
      "execution_count": 3,
      "outputs": [
        {
          "output_type": "execute_result",
          "data": {
            "text/plain": [
              "{'fit_time': array([0.06992817, 0.06176043, 0.06120229, 0.06170654, 0.05910063,\n",
              "        0.05792117, 0.05621099, 0.05675745, 0.06104231, 0.05714488]),\n",
              " 'score_time': array([0.00870419, 0.00777602, 0.00920272, 0.00799513, 0.00757718,\n",
              "        0.00772285, 0.00776792, 0.00798035, 0.00976801, 0.00778103]),\n",
              " 'test_score': array([-0.69314718, -0.69314718, -0.69314718, -0.        , -0.69314718,\n",
              "        -0.69314718, -0.69314718, -0.        , -0.        , -0.        ])}"
            ]
          },
          "metadata": {
            "tags": []
          },
          "execution_count": 3
        }
      ]
    },
    {
      "cell_type": "code",
      "metadata": {
        "colab": {
          "base_uri": "https://localhost:8080/"
        },
        "id": "Das2UQUSFTsz",
        "outputId": "1a280dd9-cba2-4f5a-dc90-8f309200a2ab"
      },
      "source": [
        "# Naive Bayes Gaussiano\n",
        "\n",
        "clf = GaussianNB()\n",
        "cross_validate(clf, X, y, cv=10)"
      ],
      "execution_count": null,
      "outputs": [
        {
          "output_type": "execute_result",
          "data": {
            "text/plain": [
              "{'fit_time': array([0.00377393, 0.00157189, 0.00063181, 0.00053978, 0.00052428,\n",
              "        0.0005281 , 0.00052261, 0.0005784 , 0.00054383, 0.00053453]),\n",
              " 'score_time': array([0.00112891, 0.00041986, 0.00036001, 0.00034404, 0.00040078,\n",
              "        0.00038052, 0.00038886, 0.00033689, 0.00032496, 0.00033402]),\n",
              " 'test_score': array([0.93333333, 0.93333333, 1.        , 0.93333333, 0.93333333,\n",
              "        0.93333333, 0.86666667, 1.        , 1.        , 1.        ])}"
            ]
          },
          "metadata": {
            "tags": []
          },
          "execution_count": 30
        }
      ]
    },
    {
      "cell_type": "code",
      "metadata": {
        "id": "VZ4GxtYOUpN5"
      },
      "source": [
        "# KCentroids\n",
        "\n",
        "'''KCentroids\n",
        "The KCentroides classifier uses a grouping algorithm to define K groups of examples from each class in the training base.\n",
        "Assuming that a database has ncl classes, the KCentroides algorithm initially forms K * ncl groups, with K groups in each of the ncl classes.\n",
        "Then, the centroid of each group is calculated and this centroid is associated with the class of the group from which it was generated.\n",
        "The hyperparameter method has the value of K.\n",
        "To perform a classification, KCentroides checks which centroid is closest to the element to be classified and returns to its class.\n",
        "'''\n",
        "\n",
        "class KCentroids(BaseEstimator, ClassifierMixin):\n",
        "    def __init__(self, estimator):\n",
        "        self._estimator = estimator\n",
        "\n",
        "    def fit(self, X, y):\n",
        "        # Check that X and y have correct shape\n",
        "        X, y = check_X_y(X, y)\n",
        "        # Store the classes seen during fit\n",
        "        self.classes_ = np.unique(y)\n",
        "\n",
        "        self.X_ = X\n",
        "        self.y_ = y\n",
        "\n",
        "        # Geting centroids with estimator\n",
        "        self.__groups = [self._estimator.fit(X[y == c]).cluster_centers_ for c in self.classes_]\n",
        "\n",
        "        # Return the classifier\n",
        "        return self\n",
        "\n",
        "    def predict(self, X):\n",
        "        # Check is fit had been called\n",
        "        check_is_fitted(self)\n",
        "\n",
        "        # Input validation\n",
        "        X = check_array(X)\n",
        "\n",
        "        predicted = [self.classes_[np.argmin([min([np.linalg.norm(x - c) for c in g]) for g in self.__groups])] for x in X]\n",
        "        return np.array(predicted)\n",
        "\n",
        "    def get_params(self, deep=False):\n",
        "        return {'estimator': self._estimator}"
      ],
      "execution_count": 4,
      "outputs": []
    },
    {
      "cell_type": "code",
      "metadata": {
        "id": "iVol6p9pFTuV",
        "colab": {
          "base_uri": "https://localhost:8080/"
        },
        "outputId": "6f447d59-defd-4110-a5fa-9e867c4fae1a"
      },
      "source": [
        "# KmeansCentroides\n",
        "\n",
        "clf = KCentroids(KMeans(n_clusters=5))\n",
        "cross_validate(clf, X, y, cv=10)"
      ],
      "execution_count": 5,
      "outputs": [
        {
          "output_type": "execute_result",
          "data": {
            "text/plain": [
              "{'fit_time': array([0.14534688, 0.09378791, 0.09419107, 0.09767652, 0.09479761,\n",
              "        0.10348368, 0.0956831 , 0.09007311, 0.11101365, 0.09948659]),\n",
              " 'score_time': array([0.00211143, 0.00208426, 0.00211573, 0.00211835, 0.00208163,\n",
              "        0.00208926, 0.00216889, 0.00382209, 0.0022068 , 0.0028441 ]),\n",
              " 'test_score': array([1.        , 0.93333333, 1.        , 1.        , 0.93333333,\n",
              "        0.93333333, 0.93333333, 1.        , 1.        , 1.        ])}"
            ]
          },
          "metadata": {
            "tags": []
          },
          "execution_count": 5
        }
      ]
    },
    {
      "cell_type": "code",
      "metadata": {
        "id": "iNZGSlx4FTx7",
        "colab": {
          "base_uri": "https://localhost:8080/"
        },
        "outputId": "5a25895c-939c-496c-922a-4c746eb7a374"
      },
      "source": [
        "# KGACentroides\n",
        "\n",
        "class AG():\n",
        "'''Genetic Algorithm\n",
        "    The initial population is constructed by hill climbing algorithm. \n",
        "    The selection mechanism is given by tournament, where a number of candidates for parents are put forward and only the best two are selected to generate offspring.\n",
        "    Since the crossing mechanism selects only two individuals, this step is repeated pop_size/2 times, so that all individuals have an equal chance of performing the recombination.\n",
        "    The combination mechanism used was also highly inspired by nature, to which the father donates a sperm that will be fertilized in an egg donated by the mother.\n",
        "    Technically, the father donates a randomly chosen cluster and it is inserted into the mother. \n",
        "    Then, the items present in the cluster donated by the father are removed from the mother cluster generating a new individual. \n",
        "    If it occurs to result in the child more clusters than necessary, those with the least amount of items are grouped; otherwise, the cluster with the largest amount are separated in half.\n",
        "    This technique was adopted so that good groupings can be maintained.\n",
        "    The mutation mechanism applied is strong: if the individual is selected, he is discarded and a new individual is inserted into the population.\n",
        "    Note, therefore, that the mutation occurs more in the population than in the individual.\n",
        "    As for the offspring, only the pop_size best individuals are allowed to enter a new generation.\n",
        "    As a stopping criterion, maximum number of iterations, maximum processing time and whether the population has converged, that is, if all individuals are identical, are used.\n",
        "'''\n",
        "    def __init__(self, k, pop_size, iter_max, cross_ratio, mut_ratio, max_time=1):\n",
        "        self.k_ = k\n",
        "        self.pop_size_ = pop_size\n",
        "        self.iter_max_ = iter_max\n",
        "        self.cross_ratio_ = cross_ratio\n",
        "        self.mut_ratio_ = mut_ratio\n",
        "        self.max_time_ = max_time\n",
        "\n",
        "    def fit(self, X):\n",
        "        # Check that X have correct shape\n",
        "        X = check_array(X)\n",
        "\n",
        "        self.X_ = X\n",
        "\n",
        "        # Geting centroids with estimator\n",
        "        solution = self.genetic(X, self.k_, self.pop_size_, self.iter_max_, \n",
        "                                       self.cross_ratio_, self.mut_ratio_, self.max_time_)\n",
        "        self.cluster_centers_ = solution['cluster_centers_'],\n",
        "        self.sse_ = solution['sse_'],\n",
        "        self.clusters_ = solution['clusters_']\n",
        "\n",
        "        # Return the classifier\n",
        "        return self\n",
        "\n",
        "    def predict(self, X):\n",
        "        # Check is fit had been called\n",
        "        check_is_fitted(self)\n",
        "\n",
        "        # Input validation\n",
        "        X = check_array(X)\n",
        "\n",
        "        predicted = [self.classes_[np.argmin([np.linalg.norm(x - g) for g in self.__solution['cluster_centers_']])] for x in X]\n",
        "        return np.array(predicted)\n",
        "\n",
        "\n",
        "    def __available_closest_items(self, cluster, available_items, n):\n",
        "        # n items more closet to centroid of cluster\n",
        "        n = min(n, len(available_items))\n",
        "        evaluations = [self.__evaluate_cluster(cluster + [i]) for i in available_items]\n",
        "        closest = np.argpartition([e['sum_dist'] for e in evaluations], range(n))[:n]\n",
        "        return closest\n",
        "\n",
        "    def hill_climbing(self, items, k):\n",
        "        num_best = k\n",
        "        available_items = list(range(len(items)))\n",
        "        np.random.shuffle(available_items)\n",
        "        # choose the firsts items of clusters randomly\n",
        "        clusters = [[items[available_items.pop()]] for _ in range(k)]\n",
        "\n",
        "        current_cluster = 0\n",
        "        while available_items:\n",
        "            closest = self.__available_closest_items(clusters[current_cluster], [items[p] for p in available_items], num_best)\n",
        "            choiced = available_items[closest[np.random.randint(len(closest))]]\n",
        "            clusters[current_cluster].append(items[choiced])\n",
        "            available_items.remove(choiced)\n",
        "            current_cluster = (current_cluster + 1) % k\n",
        "\n",
        "        return clusters\n",
        "\n",
        "    def __evaluate_cluster(self, cluster):\n",
        "        # euclidean norm\n",
        "        items = [s['coord'] for s in cluster]\n",
        "        mu = np.average(items, axis=0) # centroid\n",
        "        \n",
        "        norm2 = [np.linalg.norm(i-mu) for i in items]\n",
        "        return {'sum_dist': sum(norm2), 'dist': norm2, 'mu': mu.tolist(), 'items': cluster}\n",
        "\n",
        "    def __evaluate_clusters(self, clusters):\n",
        "        states = [self.__evaluate_cluster(cluster) for cluster in clusters]\n",
        "        return states\n",
        "\n",
        "    def __objective_function(self, states):\n",
        "        # SSE metric\n",
        "        sse = sum([state['sum_dist'] for state in states])\n",
        "        return sse\n",
        "\n",
        "    def __random_state(self, states):\n",
        "        n = len(states)-1\n",
        "        if n <= 1:\n",
        "            return states[0]\n",
        "\n",
        "        index = np.random.randint(0, n)\n",
        "        return states[index]\n",
        "\n",
        "    def __initial_population(self, n, items, k):\n",
        "        pop = [self.__evaluate_clusters(self.hill_climbing(items, k)) for _ in range(n)]\n",
        "        return pop\n",
        "\n",
        "    def __selection(self, population, n, n_tournament):\n",
        "        # by tournament\n",
        "        N = len(population)\n",
        "        if n >= N:\n",
        "            return population\n",
        "        if n_tournament > N:\n",
        "            n_tournament = N\n",
        "\n",
        "        selecteds = np.random.choice(range(0, len(population)), size=n_tournament, replace=False)\n",
        "        selecteds.sort()\n",
        "        values = [self.__objective_function(population[i]) for i in selecteds]\n",
        "        pos_ordered = np.argpartition(values, range(n))[-n:]\n",
        "        return [population[p] for p in pos_ordered]\n",
        "\n",
        "    def __crossover(self, dad, mom):\n",
        "        # son product of an egg fertilized by a sperm\n",
        "        sperm = self.__random_state(dad)['items']\n",
        "        # take all groups that not contain the sperm, and remove it too\n",
        "        egg = [e for e in [[n for n in m['items'] if n not in sperm] for m in mom] if e]\n",
        "        son = egg + [sperm]\n",
        "\n",
        "        k = len(dad)\n",
        "        while len(son) > k: # concatenate smaller groups\n",
        "            smallers = np.argpartition([len(s) for s in son], range(2))[:2]\n",
        "            son[smallers[0]] += son[smallers[1]]\n",
        "            del son[smallers[1]]\n",
        "\n",
        "        while len(son) < k: # separate larger groups\n",
        "            larger = np.argmax([len(s) for s in son])\n",
        "            half = len(son[larger])//2\n",
        "            son += [son[larger][:half]] + [son[larger][half:]]\n",
        "            del son[larger]\n",
        "\n",
        "        return self.__evaluate_clusters(son)\n",
        "\n",
        "    def __mutation(self, items, k):\n",
        "        # new individual\n",
        "        return self.__evaluate_clusters(self.hill_climbing(items, k))\n",
        "\n",
        "    def __convergent(self, population):\n",
        "        clusters_0 = [sorted([i['id'] for i in p['items']]) for p in population[0]]\n",
        "        clusters = [[sorted([i['id'] for i in clusters['items']]) for clusters in states] for states in population]\n",
        "        return all(c == clusters_0 for c in clusters)\n",
        "\n",
        "    def __evaluate_population(self, population):\n",
        "        return sum([self.__objective_function(p) for p in population], [])\n",
        "\n",
        "    def __offspring(self, population, n):\n",
        "        best_index = np.argpartition([sum([q['sum_dist'] for q in p]) for p in population], range(n))[:n]\n",
        "        return [population[i] for i in best_index]\n",
        "\n",
        "    def genetic(self, X, k, pop_size, iter_max, cross_ratio, mut_ratio, max_time):\n",
        "        items = [{'id': x, 'coord': y} for x, y in zip(range(len(X)), X)]\n",
        "        n_tournament = 3\n",
        "        half_pop = pop_size//2\n",
        "        pop = self.__initial_population(pop_size, items, k)\n",
        "        iter = 0\n",
        "        end = 0\n",
        "\n",
        "        start = time.process_time()\n",
        "        while True:\n",
        "            new_pop = pop.copy()\n",
        "            for _ in range(half_pop): # everyone can cross\n",
        "                if np.random.uniform(0, 1, 1) <= cross_ratio:\n",
        "                    parents = self.__selection(pop, 2, n_tournament)\n",
        "                    new_pop.append(self.__crossover(parents[0], parents[1]))\n",
        "                if np.random.uniform(0, 1, 1) <= mut_ratio:\n",
        "                    new_pop.append(self.__mutation(items, k))\n",
        "            pop = self.__offspring(new_pop, pop_size)\n",
        "            val_pop = self.__evaluate_population(pop)\n",
        "\n",
        "            iter += 1\n",
        "            end = time.process_time()\n",
        "            if iter >= iter_max:\n",
        "                br = 'iteration'\n",
        "                break\n",
        "            if end-start > max_time:\n",
        "                br = 'time'\n",
        "                break\n",
        "            if self.__convergent(pop):\n",
        "                br = 'convergence'\n",
        "                break\n",
        "\n",
        "        best_individual = self.__offspring(pop, 1)[0]\n",
        "        return {'cluster_centers_': [b['mu'] for b in best_individual],\n",
        "                'sse_': [b['sum_dist'] for b in best_individual],\n",
        "                'clusters_': [[c['coord'] for c in b['items']] for b in best_individual]}\n",
        "\n",
        "\n",
        "clf = KCentroids(AG(3, 50, 100, 0.8, 0.1, 1))\n",
        "cross_validate(clf, X, y, cv=10, scoring=make_scorer(my_score, greater_is_better=False))"
      ],
      "execution_count": 15,
      "outputs": [
        {
          "output_type": "execute_result",
          "data": {
            "text/plain": [
              "{'fit_time': array([12.56269455, 12.61457133, 12.41115999, 12.45732808, 12.37376428,\n",
              "        12.4879539 , 12.6698463 , 12.57104206, 12.55874062, 12.512784  ]),\n",
              " 'score_time': array([0.0010848 , 0.00107121, 0.00118184, 0.00097609, 0.00107002,\n",
              "        0.0010891 , 0.00107265, 0.00099301, 0.00108051, 0.00109649]),\n",
              " 'test_score': array([-0.69314718, -0.69314718, -0.69314718, -0.69314718, -0.69314718,\n",
              "        -0.69314718, -0.        , -0.69314718, -0.69314718, -0.69314718])}"
            ]
          },
          "metadata": {
            "tags": []
          },
          "execution_count": 15
        }
      ]
    },
    {
      "cell_type": "code",
      "metadata": {
        "colab": {
          "base_uri": "https://localhost:8080/"
        },
        "id": "PZsacp2IFT2Z",
        "outputId": "fe0c3fb1-b741-4466-f48e-3192366ed54c"
      },
      "source": [
        "# Knn\n",
        "\n",
        "clf = KNeighborsClassifier(n_neighbors=5, weights='uniform')\n",
        "cross_validate(clf, X, y, cv=10)"
      ],
      "execution_count": null,
      "outputs": [
        {
          "output_type": "execute_result",
          "data": {
            "text/plain": [
              "{'fit_time': array([0.00089765, 0.000525  , 0.00052905, 0.00051475, 0.00047994,\n",
              "        0.00049734, 0.00048304, 0.00046825, 0.00051212, 0.00047445]),\n",
              " 'score_time': array([0.00173497, 0.00153756, 0.00147939, 0.00145245, 0.00145221,\n",
              "        0.00139809, 0.00182414, 0.00138259, 0.00136447, 0.00136137]),\n",
              " 'test_score': array([1.        , 0.93333333, 1.        , 1.        , 0.86666667,\n",
              "        0.93333333, 0.93333333, 1.        , 1.        , 1.        ])}"
            ]
          },
          "metadata": {
            "tags": []
          },
          "execution_count": 31
        }
      ]
    },
    {
      "cell_type": "code",
      "metadata": {
        "colab": {
          "base_uri": "https://localhost:8080/"
        },
        "id": "qCSVlPd8FT5D",
        "outputId": "433c5058-1723-47d6-b28e-ff7efc7794ab"
      },
      "source": [
        "# DistKnn\n",
        "\n",
        "clf = KNeighborsClassifier(n_neighbors=5, weights='distance')\n",
        "cross_validate(clf, X, y, cv=10)"
      ],
      "execution_count": null,
      "outputs": [
        {
          "output_type": "execute_result",
          "data": {
            "text/plain": [
              "{'fit_time': array([0.00063038, 0.00055408, 0.00052285, 0.00051045, 0.00048232,\n",
              "        0.00048113, 0.00046873, 0.00049949, 0.00052381, 0.00045943]),\n",
              " 'score_time': array([0.00147986, 0.00115657, 0.00104284, 0.00104022, 0.00096202,\n",
              "        0.00094938, 0.00094032, 0.0009234 , 0.00095439, 0.00094771]),\n",
              " 'test_score': array([1.        , 0.93333333, 1.        , 1.        , 0.86666667,\n",
              "        0.93333333, 0.93333333, 1.        , 1.        , 1.        ])}"
            ]
          },
          "metadata": {
            "tags": []
          },
          "execution_count": 32
        }
      ]
    },
    {
      "cell_type": "code",
      "metadata": {
        "colab": {
          "base_uri": "https://localhost:8080/"
        },
        "id": "Zj3CBZmxFT8E",
        "outputId": "99c43dc7-2ef8-4ff9-a918-19c6a1ea270f"
      },
      "source": [
        "# Árvore de Decisão\n",
        "\n",
        "clf = DecisionTreeClassifier(max_depth=None)\n",
        "cross_validate(clf, X, y, cv=10)"
      ],
      "execution_count": null,
      "outputs": [
        {
          "output_type": "execute_result",
          "data": {
            "text/plain": [
              "{'fit_time': array([0.00125885, 0.0066998 , 0.00059628, 0.00048113, 0.00042081,\n",
              "        0.00043058, 0.00041461, 0.00042415, 0.00041509, 0.00043321]),\n",
              " 'score_time': array([0.00072908, 0.00063658, 0.00031853, 0.00026727, 0.00025368,\n",
              "        0.00026298, 0.0002532 , 0.00024772, 0.00024533, 0.0002737 ]),\n",
              " 'test_score': array([1.        , 0.93333333, 1.        , 0.93333333, 0.93333333,\n",
              "        0.86666667, 0.93333333, 0.93333333, 1.        , 1.        ])}"
            ]
          },
          "metadata": {
            "tags": []
          },
          "execution_count": 33
        }
      ]
    },
    {
      "cell_type": "code",
      "metadata": {
        "colab": {
          "base_uri": "https://localhost:8080/"
        },
        "id": "y8mcWF5nFT-s",
        "outputId": "c01c77f9-9b82-45e3-b30a-73dedab047ff"
      },
      "source": [
        "# Florestas de Árvores\n",
        "\n",
        "clf = RandomForestClassifier(n_estimators=10)\n",
        "cross_validate(clf, X, y, cv=10)"
      ],
      "execution_count": null,
      "outputs": [
        {
          "output_type": "execute_result",
          "data": {
            "text/plain": [
              "{'fit_time': array([0.01583815, 0.01362228, 0.01345134, 0.01485443, 0.01329064,\n",
              "        0.01354814, 0.01352906, 0.01733541, 0.0138247 , 0.01379824]),\n",
              " 'score_time': array([0.00143909, 0.0014596 , 0.00137806, 0.00139523, 0.0013907 ,\n",
              "        0.00138092, 0.001369  , 0.00140595, 0.00139141, 0.00138974]),\n",
              " 'test_score': array([1.        , 0.93333333, 1.        , 0.93333333, 0.93333333,\n",
              "        0.86666667, 0.93333333, 1.        , 1.        , 1.        ])}"
            ]
          },
          "metadata": {
            "tags": []
          },
          "execution_count": 34
        }
      ]
    }
  ]
}